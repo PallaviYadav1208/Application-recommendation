{
  "nbformat": 4,
  "nbformat_minor": 0,
  "metadata": {
    "colab": {
      "provenance": [],
      "collapsed_sections": []
    },
    "kernelspec": {
      "name": "python3",
      "display_name": "Python 3"
    },
    "language_info": {
      "name": "python"
    }
  },
  "cells": [
    {
      "cell_type": "code",
      "execution_count": 1,
      "metadata": {
        "id": "Zloq1f8-ZckZ"
      },
      "outputs": [],
      "source": [
        "import numpy as np\n",
        "import pandas as pd\n",
        "import difflib\n",
        "from sklearn.feature_extraction.text import TfidfVectorizer\n",
        "from sklearn.metrics.pairwise import cosine_similarity"
      ]
    },
    {
      "cell_type": "code",
      "source": [
        "data=pd.read_csv('/content/AppleStore (1).csv')\n",
        "data.head()"
      ],
      "metadata": {
        "colab": {
          "base_uri": "https://localhost:8080/",
          "height": 478
        },
        "id": "9zoFjTGGaY4L",
        "outputId": "0e5c5d9d-7da9-4569-d7fe-cf441a4adccd"
      },
      "execution_count": 2,
      "outputs": [
        {
          "output_type": "execute_result",
          "data": {
            "text/plain": [
              "   Unnamed: 0         id                                         track_name  \\\n",
              "0           1  281656475                                    PAC-MAN Premium   \n",
              "1           2  281796108                          Evernote - stay organized   \n",
              "2           3  281940292    WeatherBug - Local Weather, Radar, Maps, Alerts   \n",
              "3           4  282614216  eBay: Best App to Buy, Sell, Save! Online Shop...   \n",
              "4           5  282935706                                              Bible   \n",
              "\n",
              "   size_bytes currency  price  rating_count_tot  rating_count_ver  \\\n",
              "0   100788224      USD   3.99             21292                26   \n",
              "1   158578688      USD   0.00            161065                26   \n",
              "2   100524032      USD   0.00            188583              2822   \n",
              "3   128512000      USD   0.00            262241               649   \n",
              "4    92774400      USD   0.00            985920              5320   \n",
              "\n",
              "   user_rating  user_rating_ver     ver cont_rating   prime_genre  \\\n",
              "0          4.0              4.5   6.3.5          4+         Games   \n",
              "1          4.0              3.5   8.2.2          4+  Productivity   \n",
              "2          3.5              4.5   5.0.0          4+       Weather   \n",
              "3          4.0              4.5  5.10.0         12+      Shopping   \n",
              "4          4.5              5.0   7.5.1          4+     Reference   \n",
              "\n",
              "   sup_devices.num  ipadSc_urls.num  lang.num  vpp_lic  \n",
              "0               38                5        10        1  \n",
              "1               37                5        23        1  \n",
              "2               37                5         3        1  \n",
              "3               37                5         9        1  \n",
              "4               37                5        45        1  "
            ],
            "text/html": [
              "\n",
              "  <div id=\"df-a9b1bcf0-652e-4880-be14-c15c780e8361\">\n",
              "    <div class=\"colab-df-container\">\n",
              "      <div>\n",
              "<style scoped>\n",
              "    .dataframe tbody tr th:only-of-type {\n",
              "        vertical-align: middle;\n",
              "    }\n",
              "\n",
              "    .dataframe tbody tr th {\n",
              "        vertical-align: top;\n",
              "    }\n",
              "\n",
              "    .dataframe thead th {\n",
              "        text-align: right;\n",
              "    }\n",
              "</style>\n",
              "<table border=\"1\" class=\"dataframe\">\n",
              "  <thead>\n",
              "    <tr style=\"text-align: right;\">\n",
              "      <th></th>\n",
              "      <th>Unnamed: 0</th>\n",
              "      <th>id</th>\n",
              "      <th>track_name</th>\n",
              "      <th>size_bytes</th>\n",
              "      <th>currency</th>\n",
              "      <th>price</th>\n",
              "      <th>rating_count_tot</th>\n",
              "      <th>rating_count_ver</th>\n",
              "      <th>user_rating</th>\n",
              "      <th>user_rating_ver</th>\n",
              "      <th>ver</th>\n",
              "      <th>cont_rating</th>\n",
              "      <th>prime_genre</th>\n",
              "      <th>sup_devices.num</th>\n",
              "      <th>ipadSc_urls.num</th>\n",
              "      <th>lang.num</th>\n",
              "      <th>vpp_lic</th>\n",
              "    </tr>\n",
              "  </thead>\n",
              "  <tbody>\n",
              "    <tr>\n",
              "      <th>0</th>\n",
              "      <td>1</td>\n",
              "      <td>281656475</td>\n",
              "      <td>PAC-MAN Premium</td>\n",
              "      <td>100788224</td>\n",
              "      <td>USD</td>\n",
              "      <td>3.99</td>\n",
              "      <td>21292</td>\n",
              "      <td>26</td>\n",
              "      <td>4.0</td>\n",
              "      <td>4.5</td>\n",
              "      <td>6.3.5</td>\n",
              "      <td>4+</td>\n",
              "      <td>Games</td>\n",
              "      <td>38</td>\n",
              "      <td>5</td>\n",
              "      <td>10</td>\n",
              "      <td>1</td>\n",
              "    </tr>\n",
              "    <tr>\n",
              "      <th>1</th>\n",
              "      <td>2</td>\n",
              "      <td>281796108</td>\n",
              "      <td>Evernote - stay organized</td>\n",
              "      <td>158578688</td>\n",
              "      <td>USD</td>\n",
              "      <td>0.00</td>\n",
              "      <td>161065</td>\n",
              "      <td>26</td>\n",
              "      <td>4.0</td>\n",
              "      <td>3.5</td>\n",
              "      <td>8.2.2</td>\n",
              "      <td>4+</td>\n",
              "      <td>Productivity</td>\n",
              "      <td>37</td>\n",
              "      <td>5</td>\n",
              "      <td>23</td>\n",
              "      <td>1</td>\n",
              "    </tr>\n",
              "    <tr>\n",
              "      <th>2</th>\n",
              "      <td>3</td>\n",
              "      <td>281940292</td>\n",
              "      <td>WeatherBug - Local Weather, Radar, Maps, Alerts</td>\n",
              "      <td>100524032</td>\n",
              "      <td>USD</td>\n",
              "      <td>0.00</td>\n",
              "      <td>188583</td>\n",
              "      <td>2822</td>\n",
              "      <td>3.5</td>\n",
              "      <td>4.5</td>\n",
              "      <td>5.0.0</td>\n",
              "      <td>4+</td>\n",
              "      <td>Weather</td>\n",
              "      <td>37</td>\n",
              "      <td>5</td>\n",
              "      <td>3</td>\n",
              "      <td>1</td>\n",
              "    </tr>\n",
              "    <tr>\n",
              "      <th>3</th>\n",
              "      <td>4</td>\n",
              "      <td>282614216</td>\n",
              "      <td>eBay: Best App to Buy, Sell, Save! Online Shop...</td>\n",
              "      <td>128512000</td>\n",
              "      <td>USD</td>\n",
              "      <td>0.00</td>\n",
              "      <td>262241</td>\n",
              "      <td>649</td>\n",
              "      <td>4.0</td>\n",
              "      <td>4.5</td>\n",
              "      <td>5.10.0</td>\n",
              "      <td>12+</td>\n",
              "      <td>Shopping</td>\n",
              "      <td>37</td>\n",
              "      <td>5</td>\n",
              "      <td>9</td>\n",
              "      <td>1</td>\n",
              "    </tr>\n",
              "    <tr>\n",
              "      <th>4</th>\n",
              "      <td>5</td>\n",
              "      <td>282935706</td>\n",
              "      <td>Bible</td>\n",
              "      <td>92774400</td>\n",
              "      <td>USD</td>\n",
              "      <td>0.00</td>\n",
              "      <td>985920</td>\n",
              "      <td>5320</td>\n",
              "      <td>4.5</td>\n",
              "      <td>5.0</td>\n",
              "      <td>7.5.1</td>\n",
              "      <td>4+</td>\n",
              "      <td>Reference</td>\n",
              "      <td>37</td>\n",
              "      <td>5</td>\n",
              "      <td>45</td>\n",
              "      <td>1</td>\n",
              "    </tr>\n",
              "  </tbody>\n",
              "</table>\n",
              "</div>\n",
              "      <button class=\"colab-df-convert\" onclick=\"convertToInteractive('df-a9b1bcf0-652e-4880-be14-c15c780e8361')\"\n",
              "              title=\"Convert this dataframe to an interactive table.\"\n",
              "              style=\"display:none;\">\n",
              "        \n",
              "  <svg xmlns=\"http://www.w3.org/2000/svg\" height=\"24px\"viewBox=\"0 0 24 24\"\n",
              "       width=\"24px\">\n",
              "    <path d=\"M0 0h24v24H0V0z\" fill=\"none\"/>\n",
              "    <path d=\"M18.56 5.44l.94 2.06.94-2.06 2.06-.94-2.06-.94-.94-2.06-.94 2.06-2.06.94zm-11 1L8.5 8.5l.94-2.06 2.06-.94-2.06-.94L8.5 2.5l-.94 2.06-2.06.94zm10 10l.94 2.06.94-2.06 2.06-.94-2.06-.94-.94-2.06-.94 2.06-2.06.94z\"/><path d=\"M17.41 7.96l-1.37-1.37c-.4-.4-.92-.59-1.43-.59-.52 0-1.04.2-1.43.59L10.3 9.45l-7.72 7.72c-.78.78-.78 2.05 0 2.83L4 21.41c.39.39.9.59 1.41.59.51 0 1.02-.2 1.41-.59l7.78-7.78 2.81-2.81c.8-.78.8-2.07 0-2.86zM5.41 20L4 18.59l7.72-7.72 1.47 1.35L5.41 20z\"/>\n",
              "  </svg>\n",
              "      </button>\n",
              "      \n",
              "  <style>\n",
              "    .colab-df-container {\n",
              "      display:flex;\n",
              "      flex-wrap:wrap;\n",
              "      gap: 12px;\n",
              "    }\n",
              "\n",
              "    .colab-df-convert {\n",
              "      background-color: #E8F0FE;\n",
              "      border: none;\n",
              "      border-radius: 50%;\n",
              "      cursor: pointer;\n",
              "      display: none;\n",
              "      fill: #1967D2;\n",
              "      height: 32px;\n",
              "      padding: 0 0 0 0;\n",
              "      width: 32px;\n",
              "    }\n",
              "\n",
              "    .colab-df-convert:hover {\n",
              "      background-color: #E2EBFA;\n",
              "      box-shadow: 0px 1px 2px rgba(60, 64, 67, 0.3), 0px 1px 3px 1px rgba(60, 64, 67, 0.15);\n",
              "      fill: #174EA6;\n",
              "    }\n",
              "\n",
              "    [theme=dark] .colab-df-convert {\n",
              "      background-color: #3B4455;\n",
              "      fill: #D2E3FC;\n",
              "    }\n",
              "\n",
              "    [theme=dark] .colab-df-convert:hover {\n",
              "      background-color: #434B5C;\n",
              "      box-shadow: 0px 1px 3px 1px rgba(0, 0, 0, 0.15);\n",
              "      filter: drop-shadow(0px 1px 2px rgba(0, 0, 0, 0.3));\n",
              "      fill: #FFFFFF;\n",
              "    }\n",
              "  </style>\n",
              "\n",
              "      <script>\n",
              "        const buttonEl =\n",
              "          document.querySelector('#df-a9b1bcf0-652e-4880-be14-c15c780e8361 button.colab-df-convert');\n",
              "        buttonEl.style.display =\n",
              "          google.colab.kernel.accessAllowed ? 'block' : 'none';\n",
              "\n",
              "        async function convertToInteractive(key) {\n",
              "          const element = document.querySelector('#df-a9b1bcf0-652e-4880-be14-c15c780e8361');\n",
              "          const dataTable =\n",
              "            await google.colab.kernel.invokeFunction('convertToInteractive',\n",
              "                                                     [key], {});\n",
              "          if (!dataTable) return;\n",
              "\n",
              "          const docLinkHtml = 'Like what you see? Visit the ' +\n",
              "            '<a target=\"_blank\" href=https://colab.research.google.com/notebooks/data_table.ipynb>data table notebook</a>'\n",
              "            + ' to learn more about interactive tables.';\n",
              "          element.innerHTML = '';\n",
              "          dataTable['output_type'] = 'display_data';\n",
              "          await google.colab.output.renderOutput(dataTable, element);\n",
              "          const docLink = document.createElement('div');\n",
              "          docLink.innerHTML = docLinkHtml;\n",
              "          element.appendChild(docLink);\n",
              "        }\n",
              "      </script>\n",
              "    </div>\n",
              "  </div>\n",
              "  "
            ]
          },
          "metadata": {},
          "execution_count": 2
        }
      ]
    },
    {
      "cell_type": "code",
      "source": [
        "data.shape"
      ],
      "metadata": {
        "colab": {
          "base_uri": "https://localhost:8080/"
        },
        "id": "5ZbQky_Ba9xn",
        "outputId": "58cd3e3a-a288-4985-8d06-a76ccb63555d"
      },
      "execution_count": 3,
      "outputs": [
        {
          "output_type": "execute_result",
          "data": {
            "text/plain": [
              "(7197, 17)"
            ]
          },
          "metadata": {},
          "execution_count": 3
        }
      ]
    },
    {
      "cell_type": "code",
      "source": [
        "selected_feature=['track_name','prime_genre']\n",
        "for feature in selected_feature:\n",
        "  data[feature]=data[feature].fillna('')"
      ],
      "metadata": {
        "id": "lMtguhG3bC7X"
      },
      "execution_count": 4,
      "outputs": []
    },
    {
      "cell_type": "code",
      "source": [
        "combined_feature=data['track_name']+' '+data['prime_genre']\n",
        "combined_feature"
      ],
      "metadata": {
        "colab": {
          "base_uri": "https://localhost:8080/"
        },
        "id": "aO3z_7xpb53y",
        "outputId": "66b16e6a-fdbb-4e92-eb23-29a30c103ca5"
      },
      "execution_count": 5,
      "outputs": [
        {
          "output_type": "execute_result",
          "data": {
            "text/plain": [
              "0                                   PAC-MAN Premium Games\n",
              "1                  Evernote - stay organized Productivity\n",
              "2       WeatherBug - Local Weather, Radar, Maps, Alert...\n",
              "3       eBay: Best App to Buy, Sell, Save! Online Shop...\n",
              "4                                         Bible Reference\n",
              "                              ...                        \n",
              "7192                                          Kubik Games\n",
              "7193                              VR Roller-Coaster Games\n",
              "7194      Bret Michaels Emojis + Lyric Keyboard Utilities\n",
              "7195      VR Roller Coaster World - Virtual Reality Games\n",
              "7196                   Escape the Sweet Shop Series Games\n",
              "Length: 7197, dtype: object"
            ]
          },
          "metadata": {},
          "execution_count": 5
        }
      ]
    },
    {
      "cell_type": "code",
      "source": [
        "vect=TfidfVectorizer()\n",
        "feature_vector=vect.fit_transform(combined_feature)\n",
        "print(feature_vector)"
      ],
      "metadata": {
        "colab": {
          "base_uri": "https://localhost:8080/"
        },
        "id": "NFB_C4uAcPM5",
        "outputId": "1d0931fe-521e-4a6c-8d56-3efeba12b674"
      },
      "execution_count": 6,
      "outputs": [
        {
          "output_type": "stream",
          "name": "stdout",
          "text": [
            "  (0, 2454)\t0.1275627419453631\n",
            "  (0, 4794)\t0.5568520665742037\n",
            "  (0, 3670)\t0.5523362858886705\n",
            "  (0, 4390)\t0.6070981387799901\n",
            "  (1, 4836)\t0.30282424154651255\n",
            "  (1, 4347)\t0.5486863920024744\n",
            "  (1, 5869)\t0.5342741467524885\n",
            "  (1, 2022)\t0.5672670077441369\n",
            "  (2, 246)\t0.36102313848895734\n",
            "  (2, 3693)\t0.3307707501141462\n",
            "  (2, 4964)\t0.33506414885143626\n",
            "  (2, 6807)\t0.5464982361374116\n",
            "  (2, 3527)\t0.37916776694195214\n",
            "  (2, 6808)\t0.4533833950531516\n",
            "  (3, 5492)\t0.46301307378081014\n",
            "  (3, 4319)\t0.2992099651399004\n",
            "  (3, 5320)\t0.3415167615384703\n",
            "  (3, 5401)\t0.33782104530023205\n",
            "  (3, 935)\t0.3312138211455289\n",
            "  (3, 6299)\t0.2383877784923901\n",
            "  (3, 360)\t0.2371673073187418\n",
            "  (3, 641)\t0.27947410371731174\n",
            "  (3, 1870)\t0.40552447354972726\n",
            "  (4, 5060)\t0.5941975048978606\n",
            "  (4, 655)\t0.804319168721694\n",
            "  :\t:\n",
            "  (7192, 3358)\t0.984909167046591\n",
            "  (7192, 2454)\t0.17307204473163887\n",
            "  (7193, 5208)\t0.6141348017968741\n",
            "  (7193, 6726)\t0.4866617565303246\n",
            "  (7193, 1237)\t0.6069943528990014\n",
            "  (7193, 2454)\t0.13250145471448974\n",
            "  (7194, 3838)\t0.48730164304049656\n",
            "  (7194, 848)\t0.48730164304049656\n",
            "  (7194, 3610)\t0.4657980547974481\n",
            "  (7194, 3278)\t0.32711529957496166\n",
            "  (7194, 1940)\t0.38410151615783567\n",
            "  (7194, 6607)\t0.23144760875026002\n",
            "  (7195, 5019)\t0.41975460601991543\n",
            "  (7195, 5208)\t0.4594537868979428\n",
            "  (7195, 6726)\t0.3640871455615991\n",
            "  (7195, 1237)\t0.4541117898694729\n",
            "  (7195, 6691)\t0.39584371414904196\n",
            "  (7195, 6944)\t0.32773862273217935\n",
            "  (7195, 2454)\t0.09912855444755297\n",
            "  (7196, 6037)\t0.5124442567771659\n",
            "  (7196, 1993)\t0.4092615765616637\n",
            "  (7196, 5413)\t0.5365604552405024\n",
            "  (7196, 5488)\t0.45913354766918474\n",
            "  (7196, 6197)\t0.24348879738893697\n",
            "  (7196, 2454)\t0.10917103310522512\n"
          ]
        }
      ]
    },
    {
      "cell_type": "code",
      "source": [
        "similarity=cosine_similarity(feature_vector)\n",
        "print(similarity)"
      ],
      "metadata": {
        "colab": {
          "base_uri": "https://localhost:8080/"
        },
        "id": "zj1OxPD5csG2",
        "outputId": "dd60a782-e66d-4e15-8e87-f263def04410"
      },
      "execution_count": 7,
      "outputs": [
        {
          "output_type": "stream",
          "name": "stdout",
          "text": [
            "[[1.         0.         0.         ... 0.         0.01264511 0.01392616]\n",
            " [0.         1.         0.         ... 0.         0.         0.        ]\n",
            " [0.         0.         1.         ... 0.         0.         0.        ]\n",
            " ...\n",
            " [0.         0.         0.         ... 1.         0.         0.        ]\n",
            " [0.01264511 0.         0.         ... 0.         1.         0.01082197]\n",
            " [0.01392616 0.         0.         ... 0.         0.01082197 1.        ]]\n"
          ]
        }
      ]
    },
    {
      "cell_type": "code",
      "source": [
        "app_name=input(\"enter the app name:\")\n",
        "list_of_all_app=data['track_name'].tolist()\n",
        "close_match_find=difflib.get_close_matches(app_name,list_of_all_app)\n",
        "print(close_match_find)\n"
      ],
      "metadata": {
        "colab": {
          "base_uri": "https://localhost:8080/"
        },
        "id": "qJ4r2LgFdBrN",
        "outputId": "6ed76d00-b6f7-46f2-e9a7-28fbb336d330"
      },
      "execution_count": 18,
      "outputs": [
        {
          "output_type": "stream",
          "name": "stdout",
          "text": [
            "enter the app name:Solitaire\n",
            "['Solitaire', '▻Solitaire', '⋆Solitaire']\n"
          ]
        }
      ]
    }
  ]
}